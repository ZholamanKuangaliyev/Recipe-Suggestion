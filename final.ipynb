{
 "cells": [
  {
   "cell_type": "code",
   "execution_count": 47,
   "metadata": {},
   "outputs": [],
   "source": [
    "import joblib\n",
    "import numpy as np\n",
    "import pandas as pd\n",
    "from ultralytics import YOLO\n",
    "from sklearn.pipeline import make_pipeline\n",
    "from sklearn.model_selection import cross_val_score\n",
    "from sklearn.svm import SVC\n",
    "from sklearn.neighbors import KNeighborsClassifier\n",
    "from sklearn.tree import DecisionTreeClassifier\n",
    "from sklearn.ensemble import RandomForestClassifier\n",
    "from sklearn.model_selection import train_test_split, GridSearchCV\n",
    "from sklearn.metrics import accuracy_score, mean_absolute_error, mean_squared_error, r2_score, f1_score, confusion_matrix, classification_report"
   ]
  },
  {
   "cell_type": "code",
   "execution_count": 133,
   "metadata": {},
   "outputs": [],
   "source": [
    "def detection(path):\n",
    "    model = YOLO('runs/detect/train8/weights/best.pt')\n",
    "    results = model([path])\n",
    "    names = model.names\n",
    "    output = []\n",
    "    labels = ['Beef','Chicken','LasagnaPasta','Pasta','Spaghetti',\n",
    "              'Rice','Eggs','Cheese','Bread','Beans',\n",
    "              'Peas','Milk','VegetableOil','Carrots','Potatoes',\n",
    "              'Garlic','Onions','GreenOnions','SoySauce']\n",
    "    for r in results:\n",
    "        for c in r.boxes.cls:\n",
    "            output.append(names[int(c)])\n",
    "    print(output)\n",
    "    base = np.zeros((1, 19), dtype=np.int64)\n",
    "    for i in output:\n",
    "        if i in labels:\n",
    "            base[0, labels.index(i)] += 1\n",
    "    print(base)\n",
    "    classifier = joblib.load(\"./class.joblib\")\n",
    "    y_pred = classifier.predict(base)\n",
    "    return(y_pred)\n",
    "    "
   ]
  },
  {
   "cell_type": "code",
   "execution_count": 137,
   "metadata": {},
   "outputs": [
    {
     "name": "stdout",
     "output_type": "stream",
     "text": [
      "\n",
      "0: 640x480 2 Carrots, 1 LazagnaPasta, 2 Onions, 1 Pasta, 1 Peas, 39.5ms\n",
      "Speed: 2.0ms preprocess, 39.5ms inference, 3.0ms postprocess per image at shape (1, 3, 640, 480)\n",
      "['LazagnaPasta', 'Onion', 'Onion', 'Carrot', 'Carrot', 'Peas', 'Pasta']\n",
      "[[0 0 0 1 0 0 0 0 0 0 1 0 0 0 0 0 0 0 0]]\n",
      "['Pasta Carbonara']\n"
     ]
    }
   ],
   "source": [
    "print(detection('test_images/14.jpg'))"
   ]
  }
 ],
 "metadata": {
  "kernelspec": {
   "display_name": "base",
   "language": "python",
   "name": "python3"
  },
  "language_info": {
   "codemirror_mode": {
    "name": "ipython",
    "version": 3
   },
   "file_extension": ".py",
   "mimetype": "text/x-python",
   "name": "python",
   "nbconvert_exporter": "python",
   "pygments_lexer": "ipython3",
   "version": "3.11.5"
  },
  "orig_nbformat": 4
 },
 "nbformat": 4,
 "nbformat_minor": 2
}
